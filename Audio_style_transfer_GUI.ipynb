{
  "nbformat": 4,
  "nbformat_minor": 0,
  "metadata": {
    "colab": {
      "provenance": [],
      "authorship_tag": "ABX9TyMXbFchtI8jjj2PJFQZvyiS",
      "include_colab_link": true
    },
    "kernelspec": {
      "name": "python3",
      "display_name": "Python 3"
    },
    "language_info": {
      "name": "python"
    },
    "accelerator": "GPU",
    "gpuClass": "standard"
  },
  "cells": [
    {
      "cell_type": "markdown",
      "metadata": {
        "id": "view-in-github",
        "colab_type": "text"
      },
      "source": [
        "<a href=\"https://colab.research.google.com/github/littlejacinthe/Audio_NeuralStyle/blob/master/Audio_style_transfer_GUI.ipynb\" target=\"_parent\"><img src=\"https://colab.research.google.com/assets/colab-badge.svg\" alt=\"Open In Colab\"/></a>"
      ]
    },
    {
      "cell_type": "code",
      "execution_count": 1,
      "metadata": {
        "id": "6SUW6sRw886H"
      },
      "outputs": [],
      "source": [
        "#@title I/O PARAMETERS\n",
        "\n",
        "#@markdown  File path for your style input\n",
        "\n",
        "style_path = \"\" #@param {type:\"string\"}\n",
        "\n",
        "#@markdown  File path for your content input\n",
        "\n",
        "content_path = \"\" #@param {type:\"string\"}\n",
        "\n",
        "#@markdown Output directory\n",
        "out_dir = \"\" #@param {type:\"string\"}\n",
        "\n",
        "#@markdown Numbers of outputs you want to generate (integers only)\n",
        "num_out = 1 #@param {type:\"integer\"}\n",
        "\n",
        "\n",
        "#@markdown Input type of audio data for pre-processing : \n",
        "\n",
        "#@markdown  'wav' for a raw audio waveform, \n",
        "#@markdown  'spec' for a STFT spectrogram, \n",
        "#@markdown  'cqt' for Constant-Q Transform\n",
        "input_type = \"spec\" #@param [\"wav\", \"spec\", \"cqt\"]\n",
        "\n",
        "#@markdown Generate sound from random noise or from the content audio file : \n",
        "gen_type = \"noise\" #@param [\"noise\", \"content\"]\n",
        "\n",
        "#@markdown Sample rate for audio inputs and outputs (integer only)\n",
        "sr = 22050 #@param {type:\"integer\"}\n"
      ]
    },
    {
      "cell_type": "code",
      "source": [
        "#@title SPEC PARAMETERS\n",
        "\n",
        "#@markdown Fill only if your input_type is 'spec'\n"
      ],
      "metadata": {
        "id": "0q86pZRzAHse"
      },
      "execution_count": null,
      "outputs": []
    }
  ]
}